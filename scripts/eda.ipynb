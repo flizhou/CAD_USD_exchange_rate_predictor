{
 "cells": [
  {
   "cell_type": "markdown",
   "metadata": {},
   "source": [
    "# Exploratory data analysis"
   ]
  },
  {
   "cell_type": "markdown",
   "metadata": {},
   "source": [
    "## 1. Dataset description\n",
    "\n",
    "1) Global COVID-19 datasets\n",
    "\n",
    "- The two COVID-19 datasets, [the global confirmed dataset](https://github.com/CSSEGISandData/COVID-19/blob/master/csse_covid_19_data/csse_covid_19_time_series/time_series_covid19_confirmed_global.csv) and [the global death dataset](https://github.com/CSSEGISandData/COVID-19/blob/master/csse_covid_19_data/csse_covid_19_time_series/time_series_covid19_deaths_global.csv), are from the [data repository](https://github.com/CSSEGISandData/COVID-19) for the 2019 Novel Coronavirus Visual Dashboard operated by the Johns Hopkins University Center for Systems Science and Engineering (JHU CSSE). The dataset is updated every day starting from January 22nd, 2020.\n",
    "\n",
    "- Both datasets contain columns of location information (`Province/State`, `Country/Region`, `Lat`, and `Long`) or daily accumulated numbers of confirmed or deaths in the corresponding location, starting from `1/22/20` to present.\n",
    "\n",
    "- As stated in the dataset repository, \"Australia, Canada and China are reported at the province/state level. Dependencies of the Netherlands, the UK, France and Denmark are listed under the province/state level. The US and other countries are at the country level.\"\n",
    "\n",
    "- The datasets combine data from multiple sources and may contain mistakes.\n",
    "\n"
   ]
  },
  {
   "cell_type": "markdown",
   "metadata": {},
   "source": [
    "## 2. Load the dataset"
   ]
  },
  {
   "cell_type": "code",
   "execution_count": 27,
   "metadata": {},
   "outputs": [],
   "source": [
    "import requests, json\n",
    "import numpy as np\n",
    "import pandas as pd\n",
    "import altair as alt\n",
    "import datetime\n",
    "\n",
    "from sklearn.ensemble import RandomForestRegressor\n",
    "from sklearn.ensemble import GradientBoostingRegressor\n",
    "from sklearn.model_selection import TimeSeriesSplit, cross_validate\n",
    "\n",
    "alt.data_transformers.enable('json');\n",
    "alt.renderers.enable('mimetype'); # Jupyter Lab 2.x"
   ]
  },
  {
   "cell_type": "code",
   "execution_count": 28,
   "metadata": {},
   "outputs": [],
   "source": [
    "def simple_theme():\n",
    "    return {\n",
    "        \"config\": {\n",
    "            \"range\": {\"category\": {\"scheme\": \"category10\"}}, # https://vega.github.io/vega/docs/schemes/#categorical\n",
    "            \"title\": {\n",
    "                \"fontSize\": 18,\n",
    "            },\n",
    "            \"axisX\": {\n",
    "                \"domain\": True,\n",
    "                \"grid\": False,\n",
    "                \"labelFontSize\": 12,\n",
    "                \"labelAngle\": 0, \n",
    "                \"tickSize\": 5,\n",
    "                \"titleFontSize\": 14\n",
    "            },\n",
    "            \"axisY\": {\n",
    "                \"domain\": False,\n",
    "                \"grid\": True,\n",
    "                \"gridWidth\": 1,\n",
    "                \"labelFontSize\": 12,\n",
    "                \"labelAngle\": 0, \n",
    "                \"titleFontSize\": 14\n",
    "            },\n",
    "            \"legend\": {\n",
    "                \"labelFontSize\": 14,\n",
    "                \"titleFontSize\": 14\n",
    "            },\n",
    "            \"header\": {\n",
    "                \"labelFontSize\": 14,\n",
    "                \"titleFontSize\": 14\n",
    "            }\n",
    "        }\n",
    "    }"
   ]
  },
  {
   "cell_type": "code",
   "execution_count": 29,
   "metadata": {},
   "outputs": [
    {
     "data": {
      "text/plain": [
       "ThemeRegistry.enable('simple_theme')"
      ]
     },
     "execution_count": 29,
     "metadata": {},
     "output_type": "execute_result"
    }
   ],
   "source": [
    "alt.themes.register('simple_theme', simple_theme)\n",
    "\n",
    "# enable the newly registered theme\n",
    "alt.themes.enable('simple_theme')"
   ]
  },
  {
   "cell_type": "code",
   "execution_count": 4,
   "metadata": {},
   "outputs": [],
   "source": [
    "params = {'function': 'FX_DAILY',\n",
    "          'from_symbol': 'CAD',\n",
    "          'to_symbol': 'USD',\n",
    "          'outputsize': 'full',\n",
    "          'apikey': os.environ['ALPHA_API']}\n",
    "url = \"https://www.alphavantage.co/query\"\n",
    "response = requests.get(url, params)\n",
    "\n",
    "json_data = response.json()\n",
    "    \n",
    "# Check if the request was successful, if not raise an\n",
    "# exception\n",
    "if 'Error Message' in list(json_data.keys()):    \n",
    "    raise Exception(\"Request failed.\")\n",
    "\n",
    "# Create the pandas dataframe (see: pd.read_json() )\n",
    "data = pd.DataFrame(json_data[list(json_data.keys())[1]]).\\\n",
    "transpose().apply(pd.to_numeric).reset_index()\n",
    "\n",
    "data.columns = ['date', 'open', 'high', 'low', 'close']\n",
    "data.date = pd.to_datetime(data.date)\n",
    "\n",
    "data.head()"
   ]
  },
  {
   "cell_type": "code",
   "execution_count": 5,
   "metadata": {},
   "outputs": [
    {
     "data": {
      "text/html": [
       "<div>\n",
       "<style scoped>\n",
       "    .dataframe tbody tr th:only-of-type {\n",
       "        vertical-align: middle;\n",
       "    }\n",
       "\n",
       "    .dataframe tbody tr th {\n",
       "        vertical-align: top;\n",
       "    }\n",
       "\n",
       "    .dataframe thead th {\n",
       "        text-align: right;\n",
       "    }\n",
       "</style>\n",
       "<table border=\"1\" class=\"dataframe\">\n",
       "  <thead>\n",
       "    <tr style=\"text-align: right;\">\n",
       "      <th></th>\n",
       "      <th>date</th>\n",
       "      <th>open</th>\n",
       "      <th>high</th>\n",
       "      <th>low</th>\n",
       "      <th>close</th>\n",
       "    </tr>\n",
       "  </thead>\n",
       "  <tbody>\n",
       "    <tr>\n",
       "      <th>0</th>\n",
       "      <td>2020-05-19</td>\n",
       "      <td>0.7168</td>\n",
       "      <td>0.7180</td>\n",
       "      <td>0.7154</td>\n",
       "      <td>0.7177</td>\n",
       "    </tr>\n",
       "    <tr>\n",
       "      <th>1</th>\n",
       "      <td>2020-05-18</td>\n",
       "      <td>0.7090</td>\n",
       "      <td>0.7173</td>\n",
       "      <td>0.7089</td>\n",
       "      <td>0.7173</td>\n",
       "    </tr>\n",
       "    <tr>\n",
       "      <th>2</th>\n",
       "      <td>2020-05-15</td>\n",
       "      <td>0.7114</td>\n",
       "      <td>0.7132</td>\n",
       "      <td>0.7079</td>\n",
       "      <td>0.7081</td>\n",
       "    </tr>\n",
       "    <tr>\n",
       "      <th>3</th>\n",
       "      <td>2020-05-14</td>\n",
       "      <td>0.7089</td>\n",
       "      <td>0.7124</td>\n",
       "      <td>0.7068</td>\n",
       "      <td>0.7117</td>\n",
       "    </tr>\n",
       "    <tr>\n",
       "      <th>4</th>\n",
       "      <td>2020-05-13</td>\n",
       "      <td>0.7104</td>\n",
       "      <td>0.7137</td>\n",
       "      <td>0.7080</td>\n",
       "      <td>0.7092</td>\n",
       "    </tr>\n",
       "  </tbody>\n",
       "</table>\n",
       "</div>"
      ],
      "text/plain": [
       "        date    open    high     low   close\n",
       "0 2020-05-19  0.7168  0.7180  0.7154  0.7177\n",
       "1 2020-05-18  0.7090  0.7173  0.7089  0.7173\n",
       "2 2020-05-15  0.7114  0.7132  0.7079  0.7081\n",
       "3 2020-05-14  0.7089  0.7124  0.7068  0.7117\n",
       "4 2020-05-13  0.7104  0.7137  0.7080  0.7092"
      ]
     },
     "execution_count": 5,
     "metadata": {},
     "output_type": "execute_result"
    }
   ],
   "source": [
    "data.head()"
   ]
  },
  {
   "cell_type": "markdown",
   "metadata": {},
   "source": [
    "## 3. Explore the dataset"
   ]
  },
  {
   "cell_type": "markdown",
   "metadata": {},
   "source": [
    "## 4. Initial thoughts\n"
   ]
  },
  {
   "cell_type": "markdown",
   "metadata": {},
   "source": [
    "## 5. Wrangling"
   ]
  },
  {
   "cell_type": "code",
   "execution_count": null,
   "metadata": {},
   "outputs": [],
   "source": [
    "# the following functions are borrowed from https://github.com/TomasBeuzen/machine-learning-tutorials/blob/master/ml-timeseries/notebooks/supervised_time_series_intro.ipynb\n",
    "# Custom functions\n",
    "def lag_df(df, lag, cols):\n",
    "    return df.assign(**{f\"{col}-{n}\": df[col].shift(n) for n in range(1, lag + 1) for col in cols})\n",
    "\n",
    "\n",
    "def ts_predict(input_data, model, n=20, responses=1):\n",
    "    predictions = []\n",
    "    n_features = input_data.size\n",
    "    for _ in range(n):\n",
    "\n",
    "        predictions = np.append(predictions,\n",
    "                                model.predict(input_data.reshape(1, -1)))  # make prediction\n",
    "        input_data = np.append(predictions[-responses:],\n",
    "                               input_data[:n_features-responses])  # new input data\n",
    "    return predictions.reshape((-1, responses))\n",
    "\n",
    "\n",
    "def plot_ts(ax, df_train, df_test, predictions, xlim, response_cols):\n",
    "    col_cycle = plt.rcParams['axes.prop_cycle'].by_key()['color']\n",
    "    for i, col in enumerate(response_cols):\n",
    "        ax.plot(df_train[col], '-', c=col_cycle[i], label = f'Train {col}')\n",
    "        ax.plot(df_test[col], '--', c=col_cycle[i], label = f'Validation {col}')\n",
    "        ax.plot(np.arange(df_train.index[-1] + 1,\n",
    "                          df_train.index[-1] + 1 + len(predictions)),\n",
    "                predictions[:,i], c=col_cycle[-i-2], label = f'Prediction {col}')\n",
    "    ax.set_xlim(0, xlim+1)\n",
    "    ax.set_title(f\"Train Shape = {len(df_train)}, Validation Shape = {len(df_test)}\",\n",
    "                fontsize=16)\n",
    "    ax.set_ylabel(df_train.columns[0])\n",
    "\n",
    "        \n",
    "def plot_forecast(ax, df_train, predictions, xlim, response_cols):\n",
    "    col_cycle = plt.rcParams['axes.prop_cycle'].by_key()['color']\n",
    "    for i, col in enumerate(response_cols):\n",
    "        ax.plot(df_train[col], '-', c=col_cycle[i], label = f'Train {col}')\n",
    "        ax.plot(np.arange(df_train.index[-1] + 1,\n",
    "                          df_train.index[-1] + 1 + len(predictions)),\n",
    "                predictions[:,i], '-', c=col_cycle[-i-2], label = f'Prediction {col}')\n",
    "    ax.set_xlim(0, xlim+len(predictions))\n",
    "    ax.set_title(f\"{len(predictions)}-step forecast\",\n",
    "                    fontsize=16)\n",
    "    ax.set_ylabel(response_cols)\n",
    "    \n",
    "def create_rolling_features(df, columns, windows=[6, 12]):\n",
    "    for window in windows:\n",
    "        df[\"rolling_mean_\" + str(window)] = df[columns].rolling(window=window).mean()\n",
    "        df[\"rolling_std_\" + str(window)] = df[columns].rolling(window=window).std()\n",
    "        df[\"rolling_var_\" + str(window)] = df[columns].rolling(window=window).var()\n",
    "        df[\"rolling_min_\" + str(window)] = df[columns].rolling(window=window).min()\n",
    "        df[\"rolling_max_\" + str(window)] = df[columns].rolling(window=window).max()\n",
    "        df[\"rolling_min_max_ratio_\" + str(window)] = df[\"rolling_min_\" + str(window)] / df[\"rolling_max_\" + str(window)]\n",
    "        df[\"rolling_min_max_diff_\" + str(window)] = df[\"rolling_max_\" + str(window)] - df[\"rolling_min_\" + str(window)]\n",
    "\n",
    "    df = df.replace([np.inf, -np.inf], np.nan)    \n",
    "    df.fillna(0, inplace=True)\n",
    "    return df"
   ]
  },
  {
   "cell_type": "code",
   "execution_count": 23,
   "metadata": {},
   "outputs": [],
   "source": [
    "cad_to_usd = pd.merge(pd.DataFrame(pd.date_range(start='2018-01-01',\n",
    "                                                 end=datetime.datetime.today()),\n",
    "                                   columns=['date']),\n",
    "                      data, how='left')\n",
    "\n",
    "# data imputation with last observation carried over\n",
    "cad_to_usd = cad_to_usd.fillna(method='ffill')"
   ]
  },
  {
   "cell_type": "code",
   "execution_count": 30,
   "metadata": {},
   "outputs": [
    {
     "data": {
      "application/vnd.vegalite.v4+json": {
       "$schema": "https://vega.github.io/schema/vega-lite/v4.0.2.json",
       "config": {
        "axisX": {
         "domain": true,
         "grid": false,
         "labelAngle": 0,
         "labelFontSize": 12,
         "tickSize": 5,
         "titleFontSize": 14
        },
        "axisY": {
         "domain": false,
         "grid": true,
         "gridWidth": 1,
         "labelAngle": 0,
         "labelFontSize": 12,
         "titleFontSize": 14
        },
        "header": {
         "labelFontSize": 14,
         "titleFontSize": 14
        },
        "legend": {
         "labelFontSize": 14,
         "titleFontSize": 14
        },
        "range": {
         "category": {
          "scheme": "category10"
         }
        },
        "title": {
         "fontSize": 18
        }
       },
       "data": {
        "format": {
         "type": "json"
        },
        "url": "altair-data-96190452ffb36605bfe5337ac5a38965.json"
       },
       "encoding": {
        "color": {
         "field": "variable",
         "title": "Label",
         "type": "nominal"
        },
        "x": {
         "field": "date",
         "title": "Date",
         "type": "temporal"
        },
        "y": {
         "field": "value",
         "title": "Price",
         "type": "quantitative"
        }
       },
       "height": 400,
       "mark": {
        "opacity": 0.3,
        "type": "line"
       },
       "title": "CAD to USD rate",
       "width": 500
      },
      "image/png": "[encoded data removed]",
      "text/plain": [
       "<VegaLite 4 object>\n",
       "\n",
       "If you see this message, it means the renderer has not been properly enabled\n",
       "for the frontend that you are using. For more information, see\n",
       "https://altair-viz.github.io/user_guide/troubleshooting.html\n"
      ]
     },
     "execution_count": 30,
     "metadata": {},
     "output_type": "execute_result"
    }
   ],
   "source": [
    "alt.Chart(\n",
    "    pd.melt(cad_to_usd,\n",
    "            id_vars=['date'],\n",
    "            value_vars=['open', 'low', 'high', 'close'])\n",
    ").encode(\n",
    "    alt.X('date:T', title='Date'),\n",
    "    alt.Y('value:Q', title='Price'),\n",
    "    alt.Color('variable:N', title='Label')\n",
    ").mark_line(\n",
    "    opacity=0.3\n",
    ").properties(\n",
    "    height = 400,\n",
    "    width = 500,\n",
    "    title='CAD to USD rate'\n",
    ")"
   ]
  },
  {
   "cell_type": "code",
   "execution_count": 34,
   "metadata": {},
   "outputs": [],
   "source": [
    "data_lag = cad_to_usd[['date', 'close']].copy()\n",
    "data_lag['y-1'] = data_lag['close'].shift(periods=1)"
   ]
  },
  {
   "cell_type": "code",
   "execution_count": 35,
   "metadata": {},
   "outputs": [
    {
     "data": {
      "text/html": [
       "<div>\n",
       "<style scoped>\n",
       "    .dataframe tbody tr th:only-of-type {\n",
       "        vertical-align: middle;\n",
       "    }\n",
       "\n",
       "    .dataframe tbody tr th {\n",
       "        vertical-align: top;\n",
       "    }\n",
       "\n",
       "    .dataframe thead th {\n",
       "        text-align: right;\n",
       "    }\n",
       "</style>\n",
       "<table border=\"1\" class=\"dataframe\">\n",
       "  <thead>\n",
       "    <tr style=\"text-align: right;\">\n",
       "      <th></th>\n",
       "      <th>date</th>\n",
       "      <th>close</th>\n",
       "      <th>y-1</th>\n",
       "    </tr>\n",
       "  </thead>\n",
       "  <tbody>\n",
       "    <tr>\n",
       "      <th>0</th>\n",
       "      <td>2018-01-01</td>\n",
       "      <td>0.7964</td>\n",
       "      <td>NaN</td>\n",
       "    </tr>\n",
       "    <tr>\n",
       "      <th>1</th>\n",
       "      <td>2018-01-02</td>\n",
       "      <td>0.7986</td>\n",
       "      <td>0.7964</td>\n",
       "    </tr>\n",
       "    <tr>\n",
       "      <th>2</th>\n",
       "      <td>2018-01-03</td>\n",
       "      <td>0.7972</td>\n",
       "      <td>0.7986</td>\n",
       "    </tr>\n",
       "    <tr>\n",
       "      <th>3</th>\n",
       "      <td>2018-01-04</td>\n",
       "      <td>0.8004</td>\n",
       "      <td>0.7972</td>\n",
       "    </tr>\n",
       "    <tr>\n",
       "      <th>4</th>\n",
       "      <td>2018-01-05</td>\n",
       "      <td>0.8059</td>\n",
       "      <td>0.8004</td>\n",
       "    </tr>\n",
       "    <tr>\n",
       "      <th>...</th>\n",
       "      <td>...</td>\n",
       "      <td>...</td>\n",
       "      <td>...</td>\n",
       "    </tr>\n",
       "    <tr>\n",
       "      <th>864</th>\n",
       "      <td>2020-05-14</td>\n",
       "      <td>0.7117</td>\n",
       "      <td>0.7092</td>\n",
       "    </tr>\n",
       "    <tr>\n",
       "      <th>865</th>\n",
       "      <td>2020-05-15</td>\n",
       "      <td>0.7081</td>\n",
       "      <td>0.7117</td>\n",
       "    </tr>\n",
       "    <tr>\n",
       "      <th>866</th>\n",
       "      <td>2020-05-16</td>\n",
       "      <td>0.7081</td>\n",
       "      <td>0.7081</td>\n",
       "    </tr>\n",
       "    <tr>\n",
       "      <th>867</th>\n",
       "      <td>2020-05-17</td>\n",
       "      <td>0.7081</td>\n",
       "      <td>0.7081</td>\n",
       "    </tr>\n",
       "    <tr>\n",
       "      <th>868</th>\n",
       "      <td>2020-05-18</td>\n",
       "      <td>0.7173</td>\n",
       "      <td>0.7081</td>\n",
       "    </tr>\n",
       "  </tbody>\n",
       "</table>\n",
       "<p>869 rows × 3 columns</p>\n",
       "</div>"
      ],
      "text/plain": [
       "          date   close     y-1\n",
       "0   2018-01-01  0.7964     NaN\n",
       "1   2018-01-02  0.7986  0.7964\n",
       "2   2018-01-03  0.7972  0.7986\n",
       "3   2018-01-04  0.8004  0.7972\n",
       "4   2018-01-05  0.8059  0.8004\n",
       "..         ...     ...     ...\n",
       "864 2020-05-14  0.7117  0.7092\n",
       "865 2020-05-15  0.7081  0.7117\n",
       "866 2020-05-16  0.7081  0.7081\n",
       "867 2020-05-17  0.7081  0.7081\n",
       "868 2020-05-18  0.7173  0.7081\n",
       "\n",
       "[869 rows x 3 columns]"
      ]
     },
     "execution_count": 35,
     "metadata": {},
     "output_type": "execute_result"
    }
   ],
   "source": [
    "data_lag"
   ]
  },
  {
   "cell_type": "code",
   "execution_count": null,
   "metadata": {},
   "outputs": [],
   "source": [
    "split = int(data_lag.shape[0] * 0.7)\n",
    "train, test = data_lag.iloc[: split], data_lag.iloc[split:]"
   ]
  },
  {
   "cell_type": "markdown",
   "metadata": {},
   "source": [
    "## 6. Research questions\n",
    "\n"
   ]
  },
  {
   "cell_type": "markdown",
   "metadata": {},
   "source": [
    "## 7. Data Analysis & Visualizations"
   ]
  },
  {
   "cell_type": "code",
   "execution_count": null,
   "metadata": {},
   "outputs": [],
   "source": []
  },
  {
   "cell_type": "markdown",
   "metadata": {},
   "source": [
    "## 8. Summary and conclusions\n"
   ]
  }
 ],
 "metadata": {
  "kernelspec": {
   "display_name": "Python 3",
   "language": "python",
   "name": "python3"
  },
  "language_info": {
   "codemirror_mode": {
    "name": "ipython",
    "version": 3
   },
   "file_extension": ".py",
   "mimetype": "text/x-python",
   "name": "python",
   "nbconvert_exporter": "python",
   "pygments_lexer": "ipython3",
   "version": "3.7.6"
  }
 },
 "nbformat": 4,
 "nbformat_minor": 4
}
