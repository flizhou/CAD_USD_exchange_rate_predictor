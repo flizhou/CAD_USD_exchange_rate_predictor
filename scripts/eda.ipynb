{
 "cells": [
  {
   "cell_type": "markdown",
   "metadata": {},
   "source": [
    "# Exploratory data analysis"
   ]
  },
  {
   "cell_type": "markdown",
   "metadata": {},
   "source": [
    "## 1. Dataset description\n",
    "\n",
    "1) Global COVID-19 datasets\n",
    "\n",
    "- The two COVID-19 datasets, [the global confirmed dataset](https://github.com/CSSEGISandData/COVID-19/blob/master/csse_covid_19_data/csse_covid_19_time_series/time_series_covid19_confirmed_global.csv) and [the global death dataset](https://github.com/CSSEGISandData/COVID-19/blob/master/csse_covid_19_data/csse_covid_19_time_series/time_series_covid19_deaths_global.csv), are from the [data repository](https://github.com/CSSEGISandData/COVID-19) for the 2019 Novel Coronavirus Visual Dashboard operated by the Johns Hopkins University Center for Systems Science and Engineering (JHU CSSE). The dataset is updated everyday starting from January 22nd, 2020.\n",
    "\n",
    "- Both datasets contain columns of location information (`Province/State`, `Country/Region`, `Lat`, and `Long`) or daily accumulated number of confirmed or deaths in the corresponding location, starting from `1/22/20` to present.\n",
    "\n",
    "- As stated in the dataset repository, \"Australia, Canada and China are reported at the province/state level. Dependencies of the Netherlands, the UK, France and Denmark are listed under the province/state level. The US and other countries are at the country level.\"\n",
    "\n",
    "- The datasets combine data from multiple sources and may contain mistakes.\n",
    "\n"
   ]
  },
  {
   "cell_type": "markdown",
   "metadata": {},
   "source": [
    "## 2. Load the dataset"
   ]
  },
  {
   "cell_type": "code",
   "execution_count": 1,
   "metadata": {},
   "outputs": [
    {
     "name": "stderr",
     "output_type": "stream",
     "text": [
      "Warning message:\n",
      "\"package 'mice' was built under R version 3.6.2\"\n",
      "Loading required package: lattice\n",
      "\n",
      "\n",
      "Attaching package: 'mice'\n",
      "\n",
      "\n",
      "The following objects are masked from 'package:base':\n",
      "\n",
      "    cbind, rbind\n",
      "\n",
      "\n",
      "Warning message:\n",
      "\"package 'testthat' was built under R version 3.6.2\"\n",
      "Loading required package: ggplot2\n",
      "\n",
      "\n",
      "Attaching package: 'plotly'\n",
      "\n",
      "\n",
      "The following object is masked from 'package:ggplot2':\n",
      "\n",
      "    last_plot\n",
      "\n",
      "\n",
      "The following object is masked from 'package:MASS':\n",
      "\n",
      "    select\n",
      "\n",
      "\n",
      "The following object is masked from 'package:stats':\n",
      "\n",
      "    filter\n",
      "\n",
      "\n",
      "The following object is masked from 'package:graphics':\n",
      "\n",
      "    layout\n",
      "\n",
      "\n",
      "\n",
      "********************************************************\n",
      "\n",
      "Note: As of version 1.0.0, cowplot does not change the\n",
      "\n",
      "  default ggplot2 theme anymore. To recover the previous\n",
      "\n",
      "  behavior, execute:\n",
      "  theme_set(theme_cowplot())\n",
      "\n",
      "********************************************************\n",
      "\n",
      "\n",
      "Registered S3 method overwritten by 'modelr':\n",
      "  method         from    \n",
      "  print.resample resample\n",
      "\n",
      "-- \u001b[1mAttaching packages\u001b[22m --------------------------------------- tidyverse 1.3.0 --\n",
      "\n",
      "\u001b[32mv\u001b[39m \u001b[34mtibble \u001b[39m 2.1.3     \u001b[32mv\u001b[39m \u001b[34mdplyr  \u001b[39m 0.8.3\n",
      "\u001b[32mv\u001b[39m \u001b[34mtidyr  \u001b[39m 1.0.0     \u001b[32mv\u001b[39m \u001b[34mstringr\u001b[39m 1.4.0\n",
      "\u001b[32mv\u001b[39m \u001b[34mreadr  \u001b[39m 1.3.1     \u001b[32mv\u001b[39m \u001b[34mforcats\u001b[39m 0.4.0\n",
      "\u001b[32mv\u001b[39m \u001b[34mpurrr  \u001b[39m 0.3.3     \n",
      "\n",
      "-- \u001b[1mConflicts\u001b[22m ------------------------------------------ tidyverse_conflicts() --\n",
      "\u001b[31mx\u001b[39m \u001b[34mtidyr\u001b[39m::\u001b[32mcomplete()\u001b[39m masks \u001b[34mmice\u001b[39m::complete()\n",
      "\u001b[31mx\u001b[39m \u001b[34mdplyr\u001b[39m::\u001b[32mfilter()\u001b[39m   masks \u001b[34mplotly\u001b[39m::filter(), \u001b[34mstats\u001b[39m::filter()\n",
      "\u001b[31mx\u001b[39m \u001b[34mpurrr\u001b[39m::\u001b[32mis_null()\u001b[39m  masks \u001b[34mtestthat\u001b[39m::is_null()\n",
      "\u001b[31mx\u001b[39m \u001b[34mdplyr\u001b[39m::\u001b[32mlag()\u001b[39m      masks \u001b[34mstats\u001b[39m::lag()\n",
      "\u001b[31mx\u001b[39m \u001b[34mdplyr\u001b[39m::\u001b[32mmatches()\u001b[39m  masks \u001b[34mtidyr\u001b[39m::matches(), \u001b[34mtestthat\u001b[39m::matches()\n",
      "\u001b[31mx\u001b[39m \u001b[34mdplyr\u001b[39m::\u001b[32mselect()\u001b[39m   masks \u001b[34mplotly\u001b[39m::select(), \u001b[34mMASS\u001b[39m::select()\n",
      "\n"
     ]
    }
   ],
   "source": [
    "library(MASS)\n",
    "library(mice)\n",
    "library(resample)\n",
    "\n",
    "library(testthat)\n",
    "library(rjson)\n",
    "\n",
    "library(plotly)\n",
    "library(htmlwidgets)\n",
    "library(repr)\n",
    "library(cowplot)\n",
    "library(tidyverse)\n"
   ]
  },
  {
   "cell_type": "code",
   "execution_count": 2,
   "metadata": {},
   "outputs": [
    {
     "name": "stderr",
     "output_type": "stream",
     "text": [
      "Parsed with column specification:\n",
      "cols(\n",
      "  .default = col_double(),\n",
      "  `Province/State` = \u001b[31mcol_character()\u001b[39m,\n",
      "  `Country/Region` = \u001b[31mcol_character()\u001b[39m\n",
      ")\n",
      "\n",
      "See spec(...) for full column specifications.\n",
      "\n",
      "Parsed with column specification:\n",
      "cols(\n",
      "  .default = col_double(),\n",
      "  `Province/State` = \u001b[31mcol_character()\u001b[39m,\n",
      "  `Country/Region` = \u001b[31mcol_character()\u001b[39m\n",
      ")\n",
      "\n",
      "See spec(...) for full column specifications.\n",
      "\n"
     ]
    }
   ],
   "source": [
    "# get the most recent global COVID-19 confirmed and deaths datasets\n",
    "url <- \"https://github.com/CSSEGISandData/COVID-19/blob/master/csse_covid_19_data/csse_covid_19_time_series\"\n",
    "covid19_confirmed <- read_csv(paste(url, \"/time_series_covid19_confirmed_global.csv?raw=true\", sep = \"\"))\n",
    "covid19_death <- read_csv(paste(url, \"/time_series_covid19_deaths_global.csv?raw=true\", sep = \"\"))"
   ]
  },
  {
   "cell_type": "code",
   "execution_count": 3,
   "metadata": {},
   "outputs": [
    {
     "data": {
      "text/html": [
       "<table>\n",
       "<caption>A tibble: 6 × 106</caption>\n",
       "<thead>\n",
       "\t<tr><th scope=col>Province/State</th><th scope=col>Country/Region</th><th scope=col>Lat</th><th scope=col>Long</th><th scope=col>1/22/20</th><th scope=col>1/23/20</th><th scope=col>1/24/20</th><th scope=col>1/25/20</th><th scope=col>1/26/20</th><th scope=col>1/27/20</th><th scope=col>...</th><th scope=col>4/23/20</th><th scope=col>4/24/20</th><th scope=col>4/25/20</th><th scope=col>4/26/20</th><th scope=col>4/27/20</th><th scope=col>4/28/20</th><th scope=col>4/29/20</th><th scope=col>4/30/20</th><th scope=col>5/1/20</th><th scope=col>5/2/20</th></tr>\n",
       "\t<tr><th scope=col>&lt;chr&gt;</th><th scope=col>&lt;chr&gt;</th><th scope=col>&lt;dbl&gt;</th><th scope=col>&lt;dbl&gt;</th><th scope=col>&lt;dbl&gt;</th><th scope=col>&lt;dbl&gt;</th><th scope=col>&lt;dbl&gt;</th><th scope=col>&lt;dbl&gt;</th><th scope=col>&lt;dbl&gt;</th><th scope=col>&lt;dbl&gt;</th><th scope=col>...</th><th scope=col>&lt;dbl&gt;</th><th scope=col>&lt;dbl&gt;</th><th scope=col>&lt;dbl&gt;</th><th scope=col>&lt;dbl&gt;</th><th scope=col>&lt;dbl&gt;</th><th scope=col>&lt;dbl&gt;</th><th scope=col>&lt;dbl&gt;</th><th scope=col>&lt;dbl&gt;</th><th scope=col>&lt;dbl&gt;</th><th scope=col>&lt;dbl&gt;</th></tr>\n",
       "</thead>\n",
       "<tbody>\n",
       "\t<tr><td>NA</td><td>Afghanistan        </td><td> 33.0000</td><td> 65.0000</td><td>0</td><td>0</td><td>0</td><td>0</td><td>0</td><td>0</td><td>...</td><td>1279</td><td>1351</td><td>1463</td><td>1531</td><td>1703</td><td>1828</td><td>1939</td><td>2171</td><td>2335</td><td>2469</td></tr>\n",
       "\t<tr><td>NA</td><td>Albania            </td><td> 41.1533</td><td> 20.1683</td><td>0</td><td>0</td><td>0</td><td>0</td><td>0</td><td>0</td><td>...</td><td> 663</td><td> 678</td><td> 712</td><td> 726</td><td> 736</td><td> 750</td><td> 766</td><td> 773</td><td> 782</td><td> 789</td></tr>\n",
       "\t<tr><td>NA</td><td>Algeria            </td><td> 28.0339</td><td>  1.6596</td><td>0</td><td>0</td><td>0</td><td>0</td><td>0</td><td>0</td><td>...</td><td>3007</td><td>3127</td><td>3256</td><td>3382</td><td>3517</td><td>3649</td><td>3848</td><td>4006</td><td>4154</td><td>4295</td></tr>\n",
       "\t<tr><td>NA</td><td>Andorra            </td><td> 42.5063</td><td>  1.5218</td><td>0</td><td>0</td><td>0</td><td>0</td><td>0</td><td>0</td><td>...</td><td> 723</td><td> 731</td><td> 738</td><td> 738</td><td> 743</td><td> 743</td><td> 743</td><td> 745</td><td> 745</td><td> 747</td></tr>\n",
       "\t<tr><td>NA</td><td>Angola             </td><td>-11.2027</td><td> 17.8739</td><td>0</td><td>0</td><td>0</td><td>0</td><td>0</td><td>0</td><td>...</td><td>  25</td><td>  25</td><td>  25</td><td>  26</td><td>  27</td><td>  27</td><td>  27</td><td>  27</td><td>  30</td><td>  35</td></tr>\n",
       "\t<tr><td>NA</td><td>Antigua and Barbuda</td><td> 17.0608</td><td>-61.7964</td><td>0</td><td>0</td><td>0</td><td>0</td><td>0</td><td>0</td><td>...</td><td>  24</td><td>  24</td><td>  24</td><td>  24</td><td>  24</td><td>  24</td><td>  24</td><td>  24</td><td>  25</td><td>  25</td></tr>\n",
       "</tbody>\n",
       "</table>\n"
      ],
      "text/latex": [
       "A tibble: 6 × 106\n",
       "\\begin{tabular}{r|llllllllllllllllllllllllllllllllllllllllllllllllllllllllllllllllllllllllllllllllllllllllllllllllllllllllll}\n",
       " Province/State & Country/Region & Lat & Long & 1/22/20 & 1/23/20 & 1/24/20 & 1/25/20 & 1/26/20 & 1/27/20 & 1/28/20 & 1/29/20 & 1/30/20 & 1/31/20 & 2/1/20 & 2/2/20 & 2/3/20 & 2/4/20 & 2/5/20 & 2/6/20 & 2/7/20 & 2/8/20 & 2/9/20 & 2/10/20 & 2/11/20 & 2/12/20 & 2/13/20 & 2/14/20 & 2/15/20 & 2/16/20 & 2/17/20 & 2/18/20 & 2/19/20 & 2/20/20 & 2/21/20 & 2/22/20 & 2/23/20 & 2/24/20 & 2/25/20 & 2/26/20 & 2/27/20 & 2/28/20 & 2/29/20 & 3/1/20 & 3/2/20 & 3/3/20 & 3/4/20 & 3/5/20 & 3/6/20 & 3/7/20 & 3/8/20 & 3/9/20 & 3/10/20 & 3/11/20 & 3/12/20 & 3/13/20 & 3/14/20 & 3/15/20 & 3/16/20 & 3/17/20 & 3/18/20 & 3/19/20 & 3/20/20 & 3/21/20 & 3/22/20 & 3/23/20 & 3/24/20 & 3/25/20 & 3/26/20 & 3/27/20 & 3/28/20 & 3/29/20 & 3/30/20 & 3/31/20 & 4/1/20 & 4/2/20 & 4/3/20 & 4/4/20 & 4/5/20 & 4/6/20 & 4/7/20 & 4/8/20 & 4/9/20 & 4/10/20 & 4/11/20 & 4/12/20 & 4/13/20 & 4/14/20 & 4/15/20 & 4/16/20 & 4/17/20 & 4/18/20 & 4/19/20 & 4/20/20 & 4/21/20 & 4/22/20 & 4/23/20 & 4/24/20 & 4/25/20 & 4/26/20 & 4/27/20 & 4/28/20 & 4/29/20 & 4/30/20 & 5/1/20 & 5/2/20\\\\\n",
       " <chr> & <chr> & <dbl> & <dbl> & <dbl> & <dbl> & <dbl> & <dbl> & <dbl> & <dbl> & <dbl> & <dbl> & <dbl> & <dbl> & <dbl> & <dbl> & <dbl> & <dbl> & <dbl> & <dbl> & <dbl> & <dbl> & <dbl> & <dbl> & <dbl> & <dbl> & <dbl> & <dbl> & <dbl> & <dbl> & <dbl> & <dbl> & <dbl> & <dbl> & <dbl> & <dbl> & <dbl> & <dbl> & <dbl> & <dbl> & <dbl> & <dbl> & <dbl> & <dbl> & <dbl> & <dbl> & <dbl> & <dbl> & <dbl> & <dbl> & <dbl> & <dbl> & <dbl> & <dbl> & <dbl> & <dbl> & <dbl> & <dbl> & <dbl> & <dbl> & <dbl> & <dbl> & <dbl> & <dbl> & <dbl> & <dbl> & <dbl> & <dbl> & <dbl> & <dbl> & <dbl> & <dbl> & <dbl> & <dbl> & <dbl> & <dbl> & <dbl> & <dbl> & <dbl> & <dbl> & <dbl> & <dbl> & <dbl> & <dbl> & <dbl> & <dbl> & <dbl> & <dbl> & <dbl> & <dbl> & <dbl> & <dbl> & <dbl> & <dbl> & <dbl> & <dbl> & <dbl> & <dbl> & <dbl> & <dbl> & <dbl> & <dbl> & <dbl> & <dbl> & <dbl> & <dbl>\\\\\n",
       "\\hline\n",
       "\t NA & Afghanistan         &  33.0000 &  65.0000 & 0 & 0 & 0 & 0 & 0 & 0 & 0 & 0 & 0 & 0 & 0 & 0 & 0 & 0 & 0 & 0 & 0 & 0 & 0 & 0 & 0 & 0 & 0 & 0 & 0 & 0 & 0 & 0 & 0 & 0 & 0 & 0 & 0 & 1 & 1 & 1 & 1 & 1 & 1 & 1 & 1 & 1 &  1 &  1 &  1 &  1 &  4 &  4 &  5 &  7 &  7 &  7 & 11 & 16 & 21 & 22 & 22 & 22 & 24 &  24 &  40 &  40 &  74 &  84 &  94 & 110 & 110 & 120 & 170 & 174 & 237 & 273 &  281 &  299 &  349 &  367 &  423 &  444 &  484 &  521 &  555 &  607 &  665 &  714 &  784 &  840 &  906 &  933 &  996 & 1026 & 1092 & 1176 & 1279 & 1351 & 1463 & 1531 & 1703 & 1828 & 1939 & 2171 & 2335 & 2469\\\\\n",
       "\t NA & Albania             &  41.1533 &  20.1683 & 0 & 0 & 0 & 0 & 0 & 0 & 0 & 0 & 0 & 0 & 0 & 0 & 0 & 0 & 0 & 0 & 0 & 0 & 0 & 0 & 0 & 0 & 0 & 0 & 0 & 0 & 0 & 0 & 0 & 0 & 0 & 0 & 0 & 0 & 0 & 0 & 0 & 0 & 0 & 0 & 0 & 0 &  0 &  0 &  0 &  0 &  0 &  2 & 10 & 12 & 23 & 33 & 38 & 42 & 51 & 55 & 59 & 64 & 70 &  76 &  89 & 104 & 123 & 146 & 174 & 186 & 197 & 212 & 223 & 243 & 259 & 277 &  304 &  333 &  361 &  377 &  383 &  400 &  409 &  416 &  433 &  446 &  467 &  475 &  494 &  518 &  539 &  548 &  562 &  584 &  609 &  634 &  663 &  678 &  712 &  726 &  736 &  750 &  766 &  773 &  782 &  789\\\\\n",
       "\t NA & Algeria             &  28.0339 &   1.6596 & 0 & 0 & 0 & 0 & 0 & 0 & 0 & 0 & 0 & 0 & 0 & 0 & 0 & 0 & 0 & 0 & 0 & 0 & 0 & 0 & 0 & 0 & 0 & 0 & 0 & 0 & 0 & 0 & 0 & 0 & 0 & 0 & 0 & 0 & 1 & 1 & 1 & 1 & 1 & 1 & 3 & 5 & 12 & 12 & 17 & 17 & 19 & 20 & 20 & 20 & 24 & 26 & 37 & 48 & 54 & 60 & 74 & 87 & 90 & 139 & 201 & 230 & 264 & 302 & 367 & 409 & 454 & 511 & 584 & 716 & 847 & 986 & 1171 & 1251 & 1320 & 1423 & 1468 & 1572 & 1666 & 1761 & 1825 & 1914 & 1983 & 2070 & 2160 & 2268 & 2418 & 2534 & 2629 & 2718 & 2811 & 2910 & 3007 & 3127 & 3256 & 3382 & 3517 & 3649 & 3848 & 4006 & 4154 & 4295\\\\\n",
       "\t NA & Andorra             &  42.5063 &   1.5218 & 0 & 0 & 0 & 0 & 0 & 0 & 0 & 0 & 0 & 0 & 0 & 0 & 0 & 0 & 0 & 0 & 0 & 0 & 0 & 0 & 0 & 0 & 0 & 0 & 0 & 0 & 0 & 0 & 0 & 0 & 0 & 0 & 0 & 0 & 0 & 0 & 0 & 0 & 0 & 0 & 1 & 1 &  1 &  1 &  1 &  1 &  1 &  1 &  1 &  1 &  1 &  1 &  1 &  1 &  2 & 39 & 39 & 53 & 75 &  88 & 113 & 133 & 164 & 188 & 224 & 267 & 308 & 334 & 370 & 376 & 390 & 428 &  439 &  466 &  501 &  525 &  545 &  564 &  583 &  601 &  601 &  638 &  646 &  659 &  673 &  673 &  696 &  704 &  713 &  717 &  717 &  723 &  723 &  731 &  738 &  738 &  743 &  743 &  743 &  745 &  745 &  747\\\\\n",
       "\t NA & Angola              & -11.2027 &  17.8739 & 0 & 0 & 0 & 0 & 0 & 0 & 0 & 0 & 0 & 0 & 0 & 0 & 0 & 0 & 0 & 0 & 0 & 0 & 0 & 0 & 0 & 0 & 0 & 0 & 0 & 0 & 0 & 0 & 0 & 0 & 0 & 0 & 0 & 0 & 0 & 0 & 0 & 0 & 0 & 0 & 0 & 0 &  0 &  0 &  0 &  0 &  0 &  0 &  0 &  0 &  0 &  0 &  0 &  0 &  0 &  0 &  0 &  0 &  1 &   2 &   2 &   3 &   3 &   3 &   4 &   4 &   5 &   7 &   7 &   7 &   8 &   8 &    8 &   10 &   14 &   16 &   17 &   19 &   19 &   19 &   19 &   19 &   19 &   19 &   19 &   19 &   19 &   24 &   24 &   24 &   24 &   25 &   25 &   25 &   25 &   26 &   27 &   27 &   27 &   27 &   30 &   35\\\\\n",
       "\t NA & Antigua and Barbuda &  17.0608 & -61.7964 & 0 & 0 & 0 & 0 & 0 & 0 & 0 & 0 & 0 & 0 & 0 & 0 & 0 & 0 & 0 & 0 & 0 & 0 & 0 & 0 & 0 & 0 & 0 & 0 & 0 & 0 & 0 & 0 & 0 & 0 & 0 & 0 & 0 & 0 & 0 & 0 & 0 & 0 & 0 & 0 & 0 & 0 &  0 &  0 &  0 &  0 &  0 &  0 &  0 &  0 &  0 &  1 &  1 &  1 &  1 &  1 &  1 &  1 &  1 &   1 &   1 &   3 &   3 &   3 &   7 &   7 &   7 &   7 &   7 &   7 &   7 &   9 &   15 &   15 &   15 &   15 &   19 &   19 &   19 &   19 &   21 &   21 &   23 &   23 &   23 &   23 &   23 &   23 &   23 &   23 &   23 &   24 &   24 &   24 &   24 &   24 &   24 &   24 &   24 &   24 &   25 &   25\\\\\n",
       "\\end{tabular}\n"
      ],
      "text/markdown": [
       "\n",
       "A tibble: 6 × 106\n",
       "\n",
       "| Province/State &lt;chr&gt; | Country/Region &lt;chr&gt; | Lat &lt;dbl&gt; | Long &lt;dbl&gt; | 1/22/20 &lt;dbl&gt; | 1/23/20 &lt;dbl&gt; | 1/24/20 &lt;dbl&gt; | 1/25/20 &lt;dbl&gt; | 1/26/20 &lt;dbl&gt; | 1/27/20 &lt;dbl&gt; | ... ... | 4/23/20 &lt;dbl&gt; | 4/24/20 &lt;dbl&gt; | 4/25/20 &lt;dbl&gt; | 4/26/20 &lt;dbl&gt; | 4/27/20 &lt;dbl&gt; | 4/28/20 &lt;dbl&gt; | 4/29/20 &lt;dbl&gt; | 4/30/20 &lt;dbl&gt; | 5/1/20 &lt;dbl&gt; | 5/2/20 &lt;dbl&gt; |\n",
       "|---|---|---|---|---|---|---|---|---|---|---|---|---|---|---|---|---|---|---|---|---|\n",
       "| NA | Afghanistan         |  33.0000 |  65.0000 | 0 | 0 | 0 | 0 | 0 | 0 | ... | 1279 | 1351 | 1463 | 1531 | 1703 | 1828 | 1939 | 2171 | 2335 | 2469 |\n",
       "| NA | Albania             |  41.1533 |  20.1683 | 0 | 0 | 0 | 0 | 0 | 0 | ... |  663 |  678 |  712 |  726 |  736 |  750 |  766 |  773 |  782 |  789 |\n",
       "| NA | Algeria             |  28.0339 |   1.6596 | 0 | 0 | 0 | 0 | 0 | 0 | ... | 3007 | 3127 | 3256 | 3382 | 3517 | 3649 | 3848 | 4006 | 4154 | 4295 |\n",
       "| NA | Andorra             |  42.5063 |   1.5218 | 0 | 0 | 0 | 0 | 0 | 0 | ... |  723 |  731 |  738 |  738 |  743 |  743 |  743 |  745 |  745 |  747 |\n",
       "| NA | Angola              | -11.2027 |  17.8739 | 0 | 0 | 0 | 0 | 0 | 0 | ... |   25 |   25 |   25 |   26 |   27 |   27 |   27 |   27 |   30 |   35 |\n",
       "| NA | Antigua and Barbuda |  17.0608 | -61.7964 | 0 | 0 | 0 | 0 | 0 | 0 | ... |   24 |   24 |   24 |   24 |   24 |   24 |   24 |   24 |   25 |   25 |\n",
       "\n"
      ],
      "text/plain": [
       "  Province/State Country/Region      Lat      Long     1/22/20 1/23/20 1/24/20\n",
       "1 NA             Afghanistan          33.0000  65.0000 0       0       0      \n",
       "2 NA             Albania              41.1533  20.1683 0       0       0      \n",
       "3 NA             Algeria              28.0339   1.6596 0       0       0      \n",
       "4 NA             Andorra              42.5063   1.5218 0       0       0      \n",
       "5 NA             Angola              -11.2027  17.8739 0       0       0      \n",
       "6 NA             Antigua and Barbuda  17.0608 -61.7964 0       0       0      \n",
       "  1/25/20 1/26/20 1/27/20 ... 4/23/20 4/24/20 4/25/20 4/26/20 4/27/20 4/28/20\n",
       "1 0       0       0       ... 1279    1351    1463    1531    1703    1828   \n",
       "2 0       0       0       ...  663     678     712     726     736     750   \n",
       "3 0       0       0       ... 3007    3127    3256    3382    3517    3649   \n",
       "4 0       0       0       ...  723     731     738     738     743     743   \n",
       "5 0       0       0       ...   25      25      25      26      27      27   \n",
       "6 0       0       0       ...   24      24      24      24      24      24   \n",
       "  4/29/20 4/30/20 5/1/20 5/2/20\n",
       "1 1939    2171    2335   2469  \n",
       "2  766     773     782    789  \n",
       "3 3848    4006    4154   4295  \n",
       "4  743     745     745    747  \n",
       "5   27      27      30     35  \n",
       "6   24      24      25     25  "
      ]
     },
     "metadata": {},
     "output_type": "display_data"
    }
   ],
   "source": [
    "head(covid19_confirmed)"
   ]
  },
  {
   "cell_type": "markdown",
   "metadata": {},
   "source": [
    "## 3. Explore the dataset"
   ]
  },
  {
   "cell_type": "code",
   "execution_count": 6,
   "metadata": {},
   "outputs": [
    {
     "data": {
      "text/html": [
       "<ol class=list-inline>\n",
       "\t<li>266</li>\n",
       "\t<li>105</li>\n",
       "</ol>\n"
      ],
      "text/latex": [
       "\\begin{enumerate*}\n",
       "\\item 266\n",
       "\\item 105\n",
       "\\end{enumerate*}\n"
      ],
      "text/markdown": [
       "1. 266\n",
       "2. 105\n",
       "\n",
       "\n"
      ],
      "text/plain": [
       "[1] 266 105"
      ]
     },
     "metadata": {},
     "output_type": "display_data"
    },
    {
     "data": {
      "text/html": [
       "'5/1/20'"
      ],
      "text/latex": [
       "'5/1/20'"
      ],
      "text/markdown": [
       "'5/1/20'"
      ],
      "text/plain": [
       "[1] \"5/1/20\""
      ]
     },
     "metadata": {},
     "output_type": "display_data"
    },
    {
     "data": {
      "text/html": [
       "<ol class=list-inline>\n",
       "\t<li>266</li>\n",
       "\t<li>105</li>\n",
       "</ol>\n"
      ],
      "text/latex": [
       "\\begin{enumerate*}\n",
       "\\item 266\n",
       "\\item 105\n",
       "\\end{enumerate*}\n"
      ],
      "text/markdown": [
       "1. 266\n",
       "2. 105\n",
       "\n",
       "\n"
      ],
      "text/plain": [
       "[1] 266 105"
      ]
     },
     "metadata": {},
     "output_type": "display_data"
    },
    {
     "data": {
      "text/html": [
       "'5/1/20'"
      ],
      "text/latex": [
       "'5/1/20'"
      ],
      "text/markdown": [
       "'5/1/20'"
      ],
      "text/plain": [
       "[1] \"5/1/20\""
      ]
     },
     "metadata": {},
     "output_type": "display_data"
    },
    {
     "data": {
      "text/html": [
       "151"
      ],
      "text/latex": [
       "151"
      ],
      "text/markdown": [
       "151"
      ],
      "text/plain": [
       "[1] 151"
      ]
     },
     "metadata": {},
     "output_type": "display_data"
    }
   ],
   "source": [
    "print(\"Check the dimension of the global confirmed dataset:\")\n",
    "dim(covid19_confirmed)\n",
    "print(paste(\"The most recent data in the global confirmed dataset is from\", \n",
    "      colnames(covid19_confirmed)[length(covid19_confirmed)]))\n",
    "\n",
    "print(\"Check the dimension of the global deaths dataset:\")\n",
    "dim(covid19_death)\n",
    "print(paste(\"The most recent data in the global deaths dataset is from\", \n",
    "            colnames(covid19_death)[length(covid19_death)]))\n",
    "\n",
    "print(paste(\"There are\", length(unique(covid19_confirmed[`Country/Region`])), \n",
    "            \"unqiue countries in the global COVID-19 datasets\"))\n"
   ]
  },
  {
   "cell_type": "code",
   "execution_count": 7,
   "metadata": {},
   "outputs": [],
   "source": [
    "test_that(\"Column names of covid19_confirmed and covid19_death should be the same.\",\n",
    "          {expect_true(all(colnames(covid19_confirmed) == colnames(covid19_death)))\n",
    "          })\n",
    "\n",
    "test_that(\"The country column of covid19_confirmed and covid19_death should be the same.\",\n",
    "          {expect_true(all(covid19_confirmed[2] == covid19_death[2]))\n",
    "          })\n",
    "\n",
    "test_that(\"The last column of covid19_confirmed should not have missing values.\",\n",
    "          {expect_true(all(!is.na(covid19_confirmed[length(covid19_confirmed)])))\n",
    "          })\n",
    "\n",
    "test_that(\"The last column of covid19_death should not have missing values.\",\n",
    "          {expect_true(all(!is.na(covid19_death[length(covid19_death)])))\n",
    "          })"
   ]
  },
  {
   "cell_type": "markdown",
   "metadata": {},
   "source": [
    "## 4. Initial thoughts\n"
   ]
  },
  {
   "cell_type": "markdown",
   "metadata": {},
   "source": [
    "## 5. Wrangling"
   ]
  },
  {
   "cell_type": "code",
   "execution_count": 14,
   "metadata": {},
   "outputs": [],
   "source": [
    "#' Extracts COVID-19 confirmed and death numbers\n",
    "#' of a given country from the global datasets\n",
    "#'\n",
    "#' @param country the country name\n",
    "#'\n",
    "#' @return dataframe\n",
    "get_country_data <- function(country) {\n",
    "    df <- covid19_confirmed %>%\n",
    "        filter(`Country/Region` == country) %>%\n",
    "        select(-`Country/Region`, -Lat, -Long, -`Province/State`) %>%\n",
    "        gather(\"date\", \"confirmed\") %>%\n",
    "        mutate(date = lubridate::mdy(date)) %>%\n",
    "        group_by(date) %>%\n",
    "        summarize(confirmed = sum(confirmed))\n",
    "\n",
    "    death <- covid19_death %>%\n",
    "        filter(`Country/Region` == country) %>%\n",
    "        select(-`Country/Region`, -Lat, -Long, -`Province/State`) %>%\n",
    "        gather(\"date\", \"death\") %>%\n",
    "        mutate(date = lubridate::mdy(date)) %>%\n",
    "        group_by(date) %>%\n",
    "        summarize(death = sum(death))\n",
    "    \n",
    "    df$death <- death$death\n",
    "    df\n",
    "}"
   ]
  },
  {
   "cell_type": "code",
   "execution_count": 17,
   "metadata": {},
   "outputs": [],
   "source": [
    "us_data <- get_country_data(\"US\")\n",
    "canada_data <- get_country_data(\"Canada\")"
   ]
  },
  {
   "cell_type": "code",
   "execution_count": 18,
   "metadata": {},
   "outputs": [
    {
     "data": {
      "text/plain": [
       "      date              confirmed           death      \n",
       " Min.   :2020-01-22   Min.   :      1   Min.   :    0  \n",
       " 1st Qu.:2020-02-16   1st Qu.:     13   1st Qu.:    0  \n",
       " Median :2020-03-12   Median :   1921   Median :   45  \n",
       " Mean   :2020-03-12   Mean   : 223943   Mean   :11492  \n",
       " 3rd Qu.:2020-04-06   3rd Qu.: 389420   3rd Qu.:15617  \n",
       " Max.   :2020-05-02   Max.   :1132539   Max.   :66369  "
      ]
     },
     "metadata": {},
     "output_type": "display_data"
    },
    {
     "data": {
      "text/plain": [
       "      date              confirmed            death       \n",
       " Min.   :2020-01-22   Min.   :    0.00   Min.   :   0.0  \n",
       " 1st Qu.:2020-02-16   1st Qu.:    7.25   1st Qu.:   0.0  \n",
       " Median :2020-03-12   Median :  155.00   Median :   1.0  \n",
       " Mean   :2020-03-12   Mean   :10749.20   Mean   : 474.6  \n",
       " 3rd Qu.:2020-04-06   3rd Qu.:17544.75   3rd Qu.: 366.0  \n",
       " Max.   :2020-05-02   Max.   :57926.00   Max.   :3684.0  "
      ]
     },
     "metadata": {},
     "output_type": "display_data"
    }
   ],
   "source": [
    "summary(us_data)\n",
    "summary(canada_data)"
   ]
  },
  {
   "cell_type": "code",
   "execution_count": 35,
   "metadata": {},
   "outputs": [],
   "source": [
    "us_data$country = 'US'\n",
    "canada_data$country = 'Canada'\n",
    "cb_data <- cbind(us_data, canada_data)"
   ]
  },
  {
   "cell_type": "markdown",
   "metadata": {},
   "source": [
    "## 6. Research questions\n",
    "\n"
   ]
  },
  {
   "cell_type": "markdown",
   "metadata": {},
   "source": [
    "## 7. Data Analysis & Visualizations"
   ]
  },
  {
   "cell_type": "code",
   "execution_count": 41,
   "metadata": {},
   "outputs": [],
   "source": [
    "t <- theme(plot.title = element_text(size = 20),\n",
    "           axis.title = element_text(size = 18),\n",
    "           text = element_text(size = 16),\n",
    "           legend.title = element_text(size = 18),\n",
    "           legend.text = element_text(size = 18),\n",
    "           strip.text.x = element_text(size = 18))\n",
    "options(repr.plot.width = 10, repr.plot.height = 7)\n",
    "\n",
    "#' Plots time series of COVID-19 confirmed and \n",
    "#' death numbers\n",
    "#'\n",
    "#' @param df the dataframe to plot\n",
    "#' @param name the country name\n",
    "#'\n",
    "#' @return ggplot plot\n",
    "plot_ts <-  function (df, name){\n",
    "    \n",
    "    df %>%\n",
    "        gather(\"term\", \"number\", - date, - country) %>%\n",
    "        ggplot(aes(date, number, color = term)) +\n",
    "        geom_line() +\n",
    "        scale_x_date(date_labels = \"%Y %b %d\")  +\n",
    "        theme_bw() +\n",
    "        labs(title = paste(\"The COVID-19 confirmed and death numbers in\", name),\n",
    "             color = \"Line\") + t\n",
    "    \n",
    "}"
   ]
  },
  {
   "cell_type": "code",
   "execution_count": 50,
   "metadata": {},
   "outputs": [
    {
     "data": {
      "image/png": "[encoded data removed]",
      "text/plain": [
       "plot without title"
      ]
     },
     "metadata": {
      "image/png": {
       "height": 480,
       "width": 720
      },
      "text/plain": {
       "height": 480,
       "width": 720
      }
     },
     "output_type": "display_data"
    }
   ],
   "source": [
    "options(repr.plot.width = 12, repr.plot.height = 8)\n",
    "cb_data %>%\n",
    "    gather(\"term\", \"number\", - date, - country) %>%\n",
    "    ggplot(aes(date, number, color = term)) +\n",
    "    geom_line() +\n",
    "    scale_x_date(date_labels = \"%Y %b %d\") +\n",
    "    facet_grid(rows = vars(country), scales = \"free\") +\n",
    "    theme_bw() +\n",
    "    labs(title = \"The COVID-19 confirmed and death numbers\",\n",
    "         color = \"Line\") + t"
   ]
  },
  {
   "cell_type": "markdown",
   "metadata": {},
   "source": [
    "## 8. Summary and conclusions\n"
   ]
  }
 ],
 "metadata": {
  "kernelspec": {
   "display_name": "R",
   "language": "R",
   "name": "ir"
  },
  "language_info": {
   "codemirror_mode": "r",
   "file_extension": ".r",
   "mimetype": "text/x-r-source",
   "name": "R",
   "pygments_lexer": "r",
   "version": "3.6.1"
  }
 },
 "nbformat": 4,
 "nbformat_minor": 4
}
